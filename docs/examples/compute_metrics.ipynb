{
 "cells": [
  {
   "cell_type": "markdown",
   "id": "f95face2-9fbc-4ec5-8546-ce17fe290147",
   "metadata": {},
   "source": [
    "This example showcases how `xnemogcm` can compute certain missing metrics (metrics are called scale factors in the NEMO community, and called metrics in the xgcm community).\n",
    "It is thus possible to e.g. compute `e3u` from `e3t`. We let the reader [refer to the NEMO documentation](https://doi.org/10.5281/zenodo.8167700) for the explanation of the scale factors."
   ]
  },
  {
   "cell_type": "code",
   "execution_count": null,
   "id": "9975d773-21bd-40e2-8795-38e70753bd05",
   "metadata": {
    "tags": []
   },
   "outputs": [],
   "source": [
    "from pathlib import Path\n",
    "\n",
    "from xnemogcm import open_nemo_and_domain_cfg\n",
    "from xnemogcm.metrics import compute_missing_metrics\n",
    "from xnemogcm import __version__ as xnemogcm_version"
   ]
  },
  {
   "cell_type": "code",
   "execution_count": null,
   "id": "f4d1aa0c-e02a-4999-aaeb-88cdf14a8adf",
   "metadata": {
    "tags": []
   },
   "outputs": [],
   "source": [
    "print(xnemogcm_version)"
   ]
  },
  {
   "cell_type": "code",
   "execution_count": null,
   "id": "3d452d15-99de-4dda-a18b-907cace8688a",
   "metadata": {
    "tags": []
   },
   "outputs": [],
   "source": [
    "datadir = Path('../../xnemogcm/test/data/4.2.0/open_and_merge/')"
   ]
  },
  {
   "cell_type": "code",
   "execution_count": null,
   "id": "51096969-6558-493c-95ae-e3b82b57cb02",
   "metadata": {
    "tags": []
   },
   "outputs": [],
   "source": [
    "ds = open_nemo_and_domain_cfg(nemo_files=datadir, domcfg_files=datadir)\n",
    "print(ds)"
   ]
  },
  {
   "cell_type": "code",
   "execution_count": null,
   "id": "b4958894-950c-4150-a312-9b70a94c4387",
   "metadata": {
    "tags": []
   },
   "outputs": [],
   "source": [
    "help(compute_missing_metrics)"
   ]
  },
  {
   "cell_type": "code",
   "execution_count": null,
   "id": "2f5c7a41-ad3d-43f0-baf0-6cfb4fbbb761",
   "metadata": {
    "tags": []
   },
   "outputs": [],
   "source": [
    "# If you just want to get a copy\n",
    "print(\n",
    "    compute_missing_metrics(ds.copy())\n",
    ")"
   ]
  },
  {
   "cell_type": "code",
   "execution_count": null,
   "id": "613b9c7a-724b-4185-856e-70cb9e5364d2",
   "metadata": {
    "tags": []
   },
   "outputs": [],
   "source": [
    "# If you just want to add the scale factor inplace\n",
    "compute_missing_metrics(ds)\n",
    "print(ds)"
   ]
  },
  {
   "cell_type": "markdown",
   "id": "651306d8-2f5c-4c64-9942-461e04756e0c",
   "metadata": {},
   "source": [
    "It is also possible to compute the time constant metrics, i.e. the e3x_0"
   ]
  },
  {
   "cell_type": "code",
   "execution_count": null,
   "id": "aa9bc4a4-8194-4cc5-9bcf-c7cd08bf7cd1",
   "metadata": {
    "tags": []
   },
   "outputs": [],
   "source": [
    "print(\n",
    "    compute_missing_metrics(ds.copy(), time_varying=False)\n",
    ")"
   ]
  },
  {
   "cell_type": "markdown",
   "id": "69e30349-cbf9-45cb-bd53-6b2123d6c9c2",
   "metadata": {},
   "source": [
    "And it is possible to only compute a subset of the possible metrics"
   ]
  },
  {
   "cell_type": "code",
   "execution_count": null,
   "id": "b190b080-d2ad-444e-b25f-429ae51028fc",
   "metadata": {
    "tags": []
   },
   "outputs": [],
   "source": [
    "print(\n",
    "    compute_missing_metrics(ds.drop_vars(['e3u', 'e3v', 'e3f', 'e3w']).copy(), all_scale_factors=['e3u'])\n",
    ")"
   ]
  }
 ],
 "metadata": {
  "kernelspec": {
   "display_name": "Python 3 (ipykernel)",
   "language": "python",
   "name": "python3"
  },
  "language_info": {
   "codemirror_mode": {
    "name": "ipython",
    "version": 3
   },
   "file_extension": ".py",
   "mimetype": "text/x-python",
   "name": "python",
   "nbconvert_exporter": "python",
   "pygments_lexer": "ipython3",
   "version": "3.10.12"
  }
 },
 "nbformat": 4,
 "nbformat_minor": 5
}
