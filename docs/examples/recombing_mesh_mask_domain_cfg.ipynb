{
 "cells": [
  {
   "cell_type": "markdown",
   "id": "96f57a3d-4035-4c7b-acb5-5ae843eb87fd",
   "metadata": {},
   "source": [
    "Two types of files related to the domain grid can be of use with NEMO: the `domain_cfg` files and the `mesh_mask` files. They are very similar, and any of them can be used by xnemogcm. If you are using a realistic (regional or global) configuration, they are provided as input files to NEMO so you should have these file. If you are using idealised configuration with analytical bathymetry, these files can be outputted by NEMO.\n",
    "\n",
    "By default, NEMO outputs a mesh_mask / domain_cfg file per computing processor, if the namelist parameter is set on .true.:\n",
    "\n",
    "* `ln_write_cfg = .true.` to output the domain_cfg if created analytically in the usrdef_zgr.F90 and usrdef_hgr.F90 files\n",
    "* `ln_meshmask = .true.` to output the mesh_mask files (that also contain the masks)\n",
    "\n",
    "While it is possible to recombine the files using the nemo fortran toolbox, xnemogcm can also recombine them easily."
   ]
  },
  {
   "cell_type": "markdown",
   "id": "41aec3c0-ece5-4ba1-b47f-d7a6d67b0860",
   "metadata": {},
   "source": [
    "Start by importing the functions"
   ]
  },
  {
   "cell_type": "code",
   "execution_count": null,
   "id": "18606253-a4d5-4f6a-9da8-7dfd96b72bea",
   "metadata": {},
   "outputs": [],
   "source": [
    "from pathlib import Path\n",
    "from os import listdir\n",
    "\n",
    "from xnemogcm import open_domain_cfg, open_nemo_and_domain_cfg\n",
    "from xnemogcm import __version__ as xnemogcm_version"
   ]
  },
  {
   "cell_type": "code",
   "execution_count": null,
   "id": "84a7b456-0689-4cc7-b497-c41ea62ad477",
   "metadata": {},
   "outputs": [],
   "source": [
    "xnemogcm_version"
   ]
  },
  {
   "cell_type": "markdown",
   "id": "f71a5a14-d662-42f0-a695-ab0d421b6b24",
   "metadata": {},
   "source": [
    "We use a data folder from the test data:"
   ]
  },
  {
   "cell_type": "code",
   "execution_count": null,
   "id": "7e7eb827-e9ff-4652-8e11-c3ad01b1a65e",
   "metadata": {},
   "outputs": [],
   "source": [
    "datadir = Path('../../xnemogcm/test/data/4.2.0/mesh_mask_multi_files/')"
   ]
  },
  {
   "cell_type": "code",
   "execution_count": null,
   "id": "5244743b-5695-437b-a9d9-4b61a6710128",
   "metadata": {},
   "outputs": [],
   "source": [
    "print(listdir(datadir))"
   ]
  },
  {
   "cell_type": "code",
   "execution_count": null,
   "id": "193b27f6-8421-4cbd-be2e-228a8705a792",
   "metadata": {},
   "outputs": [],
   "source": [
    "domcfg = open_domain_cfg(datadir=datadir)\n",
    "domcfg"
   ]
  },
  {
   "cell_type": "markdown",
   "id": "475a6a89-9353-4c11-b49f-f0874b304546",
   "metadata": {},
   "source": [
    "We verify that the variables are the same than when opening a unique full mesh_mask file."
   ]
  },
  {
   "cell_type": "code",
   "execution_count": null,
   "id": "1143759e-b37e-4352-b05c-bad53db8a3b2",
   "metadata": {},
   "outputs": [],
   "source": [
    "domcfg_1_file = open_domain_cfg(datadir=Path('../../xnemogcm/test/data/4.2.0/mesh_mask_1_file/'), files=['mesh_mask.nc'])"
   ]
  },
  {
   "cell_type": "code",
   "execution_count": null,
   "id": "771405fe-0fef-4bce-a760-bd3d2463b831",
   "metadata": {},
   "outputs": [],
   "source": [
    "domcfg_1_file.equals(domcfg)"
   ]
  }
 ],
 "metadata": {
  "kernelspec": {
   "display_name": "Python 3 (ipykernel)",
   "language": "python",
   "name": "python3"
  },
  "language_info": {
   "codemirror_mode": {
    "name": "ipython",
    "version": 3
   },
   "file_extension": ".py",
   "mimetype": "text/x-python",
   "name": "python",
   "nbconvert_exporter": "python",
   "pygments_lexer": "ipython3",
   "version": "3.10.12"
  }
 },
 "nbformat": 4,
 "nbformat_minor": 5
}
