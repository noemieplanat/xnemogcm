{
 "cells": [
  {
   "cell_type": "markdown",
   "id": "111a159d-c529-49db-a71b-e01f817b02cf",
   "metadata": {},
   "source": [
    "This example demonstrates how to open NEMO files and make them compliant with xgcm.\n",
    "NEMO files consist of two different types of files: 1) the domain files containing information on the grid (domain_cfg and mesh_mask files),\n",
    "and 2) the nemo files containing the outputted variables (usually, the filenames are similar to `XXX_01234_01234_grid_X.nc`).\n",
    "To create the `xgcm.Grid`, most of the information is located in the domain files. It is thus necessary to open both the domain and the nemo files.\n",
    "\n",
    "These files can either be opened in two different Datasets, or combined into a single one. Both options are demonstrated in this example.\n"
   ]
  },
  {
   "cell_type": "markdown",
   "id": "d4baf777-28bc-42a2-95d9-714e62b9fa84",
   "metadata": {},
   "source": [
    "Start by importing the functions"
   ]
  },
  {
   "cell_type": "code",
   "execution_count": null,
   "id": "6e326e37-4bfa-4111-bde4-5f3587ab1edd",
   "metadata": {},
   "outputs": [],
   "source": [
    "from pathlib import Path\n",
    "from os import listdir\n",
    "\n",
    "from xnemogcm import open_domain_cfg, open_nemo, process_nemo, open_namelist, open_nemo_and_domain_cfg\n",
    "from xnemogcm import __version__ as xnemogcm_version"
   ]
  },
  {
   "cell_type": "code",
   "execution_count": null,
   "id": "c6f5571a-61ec-408f-8eae-6dee765ee048",
   "metadata": {},
   "outputs": [],
   "source": [
    "xnemogcm_version"
   ]
  },
  {
   "cell_type": "markdown",
   "id": "cf68f882-90a2-420a-b5b5-ceded0c96420",
   "metadata": {},
   "source": [
    "## First open the domain and nemo files into 2 datasets\n",
    "### domain"
   ]
  },
  {
   "cell_type": "code",
   "execution_count": null,
   "id": "3928df5c-06c9-4f4b-a85a-c4fad3170903",
   "metadata": {},
   "outputs": [],
   "source": [
    "help(open_domain_cfg)"
   ]
  },
  {
   "cell_type": "markdown",
   "id": "add13a99-a665-4d2b-822a-436740a9709a",
   "metadata": {},
   "source": [
    "---\n",
    "\n",
    "You can provide the file names / folder using 3 similar methods:\n",
    "1. Give the path to the files and xnemogcm opens the domain_cfg_out and/or mesh_mesk files\n",
    "2. Give the path to the data folder + the name of the files\n",
    "3. Give the name of the files that already contain the tree (e.g. ['/path/to/file1', '/path/to/file2']\n",
    "\n",
    "These 3 methods are equivalent, however if your domain files don't have the standard names you need to provide them by hand.\n",
    "\n",
    "We use one of the test folder:"
   ]
  },
  {
   "cell_type": "code",
   "execution_count": null,
   "id": "2ee3aa40-af70-4150-a7e6-ea6f690f364f",
   "metadata": {},
   "outputs": [],
   "source": [
    "datadir = Path('../../xnemogcm/test/data/4.2.0/open_and_merge/')"
   ]
  },
  {
   "cell_type": "code",
   "execution_count": null,
   "id": "fc2b9b94-5106-427d-9d44-59044cec476a",
   "metadata": {},
   "outputs": [],
   "source": [
    "print(listdir(datadir))"
   ]
  },
  {
   "cell_type": "code",
   "execution_count": null,
   "id": "5cd1ee94-3ac2-4d95-9610-ea651583af39",
   "metadata": {},
   "outputs": [],
   "source": [
    "domcfg = open_domain_cfg(datadir=datadir)\n",
    "# or\n",
    "domcfg = open_domain_cfg(datadir=datadir, files=['mesh_mask.nc'])\n",
    "# or\n",
    "domcfg = open_domain_cfg(files=datadir.glob('*mesh_mask*.nc'))\n",
    "domcfg"
   ]
  },
  {
   "cell_type": "markdown",
   "id": "58fde32f-9f84-47f0-90e5-2590d6664ac5",
   "metadata": {},
   "source": [
    "### Nemo\n",
    "\n",
    "2 options here: 1) open netcdf files and make the preprocess automatically with `open_nemo` or 2) open by hand the files (or retrieve them from anywhere, e.g. zarr on a remote) and process using `process_nemo`.\n",
    "\n",
    "Note: `open_nemo` internally uses `process_nemo`.\n",
    "\n",
    "#### open_nemo"
   ]
  },
  {
   "cell_type": "code",
   "execution_count": null,
   "id": "6fa2e261-a188-4973-ad6e-6381017ab5bc",
   "metadata": {},
   "outputs": [],
   "source": [
    "help(open_nemo)"
   ]
  },
  {
   "cell_type": "markdown",
   "id": "3bc66d2b-a497-4394-a28f-80ac98587e3a",
   "metadata": {},
   "source": [
    "---\n",
    "We can provide the files folder / name following the same convention as for the `open_domain_cfg` function. We also **need** to provide the `domcfg` dataset so xnemogcm knows how to set the variables on the proper grid position. We can also provide extra kwargs to the underlying call to `xarray.open_mfdataset` function."
   ]
  },
  {
   "cell_type": "code",
   "execution_count": null,
   "id": "9e5a0b8c-7199-46d2-9231-273fc57355f5",
   "metadata": {},
   "outputs": [],
   "source": [
    "nemo = open_nemo(domcfg=domcfg, datadir=datadir)\n",
    "# or\n",
    "nemo = open_nemo(domcfg=domcfg, files=datadir.glob('*grid*.nc'))\n",
    "# or, using attributes from dataset and not name\n",
    "datadir2 = Path('../../xnemogcm/test/data/4.2.0/nemo_no_grid_in_filename/')\n",
    "nemo = open_nemo(\n",
    "    domcfg=domcfg, files=[\n",
    "        datadir2 / 'T.nc',\n",
    "        datadir2 / 'U.nc',\n",
    "        datadir2 / 'V.nc',\n",
    "        datadir2 / 'W.nc'\n",
    "    ]\n",
    ")\n",
    "nemo"
   ]
  },
  {
   "cell_type": "markdown",
   "id": "72017af7-df86-4f61-b2e4-e9ce2826fcd3",
   "metadata": {},
   "source": [
    "#### process_nemo"
   ]
  },
  {
   "cell_type": "code",
   "execution_count": null,
   "id": "e64f0c2a-fe6a-465e-b8c2-8df7db3ea0bb",
   "metadata": {},
   "outputs": [],
   "source": [
    "help(process_nemo)"
   ]
  },
  {
   "cell_type": "code",
   "execution_count": null,
   "id": "19b9bd17-e1f4-4be3-8039-7d02311238b0",
   "metadata": {},
   "outputs": [],
   "source": [
    "import xarray as xr\n",
    "datadir2 = Path('../../xnemogcm/test/data/4.2.0/nemo_no_grid_in_filename/')\n",
    "nemo = process_nemo(\n",
    "    positions=[\n",
    "        (xr.open_dataset(datadir2 / 'T.nc'), 'T'),\n",
    "        (xr.open_dataset(datadir2 / 'U.nc'), 'U'),\n",
    "        (xr.open_dataset(datadir2 / 'V.nc'), 'V'),\n",
    "        (xr.open_dataset(datadir2 / 'W.nc'), 'W')\n",
    "    ],\n",
    "    domcfg=domcfg\n",
    ")\n",
    "# or, if the datasets contain the attribute 'description'\n",
    "nemo = process_nemo(\n",
    "    positions=[\n",
    "        (xr.open_dataset(datadir2 / 'T.nc'), None),\n",
    "        (xr.open_dataset(datadir2 / 'U.nc'), None),\n",
    "        (xr.open_dataset(datadir2 / 'V.nc'), None),\n",
    "        (xr.open_dataset(datadir2 / 'W.nc'), None)\n",
    "    ],\n",
    "    domcfg=domcfg\n",
    ")"
   ]
  },
  {
   "cell_type": "markdown",
   "id": "90ab171c-d3d3-4c8e-897a-3b18a749390f",
   "metadata": {},
   "source": [
    "## Open both at once\n",
    "\n",
    "It is possible to open the domain and nemo output at once in one unique dataset. What happens is that 2 datasets are created and then merged. Thus all option possible for the `open_nemo` and `open_domain_cfg` functions are still possible."
   ]
  },
  {
   "cell_type": "code",
   "execution_count": null,
   "id": "c3130a23-e65a-4097-a12d-cf41110a0836",
   "metadata": {},
   "outputs": [],
   "source": [
    "help(open_nemo_and_domain_cfg)"
   ]
  },
  {
   "cell_type": "markdown",
   "id": "94f9a258-8204-48dd-9c78-c2859461b113",
   "metadata": {},
   "source": [
    "---\n",
    "Again, multiple equivalent arguments are possible to open the data"
   ]
  },
  {
   "cell_type": "code",
   "execution_count": null,
   "id": "361b5317-a173-4442-a7ec-7f70466d2eb3",
   "metadata": {},
   "outputs": [],
   "source": [
    "# the simplest for simple cases, provide the path\n",
    "ds = open_nemo_and_domain_cfg(nemo_files=datadir, domcfg_files=datadir)\n",
    "# or provide the files\n",
    "ds = open_nemo_and_domain_cfg(nemo_files=datadir.glob('*grid*.nc'), domcfg_files=datadir.glob('*mesh*.nc'))\n",
    "# or use the nemo_kwargs and domcfg_kwargs dictionaries\n",
    "ds = open_nemo_and_domain_cfg(nemo_kwargs=dict(datadir=datadir), domcfg_kwargs={'files':datadir.glob('*mesh*.nc')})\n",
    "ds"
   ]
  },
  {
   "cell_type": "markdown",
   "id": "8bd99220-6f03-476d-9621-36499e9ffedc",
   "metadata": {},
   "source": [
    "### Remark\n",
    "\n",
    "All opening are lazy using dask, which makes files quick to open, until you actually load the data you need"
   ]
  },
  {
   "cell_type": "markdown",
   "id": "ea964e50-68db-4394-baec-4b3c5fb90b3e",
   "metadata": {},
   "source": [
    "## Namelist\n",
    "\n",
    "It can be convenient to open the namelist used for the run (e.g. to compare different runs with different parameters). This is possible using the `f90nml` package (it needs to be installed, this is an optional dependency)."
   ]
  },
  {
   "cell_type": "code",
   "execution_count": null,
   "id": "8a6cb055-e2c2-4d37-be4e-3684b0f12a71",
   "metadata": {},
   "outputs": [],
   "source": [
    "help(open_namelist)"
   ]
  },
  {
   "cell_type": "markdown",
   "id": "c81264ec-2a59-43b6-adfc-b2c19ba96b49",
   "metadata": {},
   "source": [
    "---\n",
    "Here you provide the folder path containing the reference and configuration namelists, or the filenames (as for nemo and domcfg). You can choose to load both, or only one of them. The configuration namelist will overwrite the default one.\n",
    "\n",
    "For this we need to use another folder of the test data (with simplified namelists for the example):"
   ]
  },
  {
   "cell_type": "code",
   "execution_count": null,
   "id": "1fc7b7ba-cedf-4ebe-8105-de09edcbb7bf",
   "metadata": {},
   "outputs": [],
   "source": [
    "datadir = Path('../../xnemogcm/test/data/namelist/')"
   ]
  },
  {
   "cell_type": "code",
   "execution_count": null,
   "id": "f413ca78-2d0f-48fd-b9d5-427c4b8ca4b3",
   "metadata": {},
   "outputs": [],
   "source": [
    "print(listdir(datadir))"
   ]
  },
  {
   "cell_type": "code",
   "execution_count": null,
   "id": "feabb3f4-f9b7-4092-b423-22db9cae36a1",
   "metadata": {},
   "outputs": [],
   "source": [
    "name = open_namelist(datadir)\n",
    "name"
   ]
  },
  {
   "cell_type": "code",
   "execution_count": null,
   "id": "8c51560d-1f06-4192-997a-db0f89629557",
   "metadata": {},
   "outputs": [],
   "source": [
    "name.nn_it000"
   ]
  }
 ],
 "metadata": {
  "kernelspec": {
   "display_name": "Python 3 (ipykernel)",
   "language": "python",
   "name": "python3"
  },
  "language_info": {
   "codemirror_mode": {
    "name": "ipython",
    "version": 3
   },
   "file_extension": ".py",
   "mimetype": "text/x-python",
   "name": "python",
   "nbconvert_exporter": "python",
   "pygments_lexer": "ipython3",
   "version": "3.10.12"
  }
 },
 "nbformat": 4,
 "nbformat_minor": 5
}
